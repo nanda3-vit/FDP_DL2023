{
  "cells": [
    {
      "cell_type": "code",
      "execution_count": 1,
      "id": "56a972ef",
      "metadata": {
        "id": "56a972ef"
      },
      "outputs": [],
      "source": [
        "import pandas as pd\n",
        "import matplotlib.pyplot as plt"
      ]
    },
    {
      "cell_type": "code",
      "execution_count": 13,
      "id": "429f85f0",
      "metadata": {
        "id": "429f85f0"
      },
      "outputs": [],
      "source": [
        "df_train = pd.read_csv('/content/sample_data/train.csv')\n",
        "# df_train = pd.read_csv('train.csv') # code file and dataset at the same location"
      ]
    },
    {
      "cell_type": "code",
      "execution_count": 14,
      "id": "5de16832",
      "metadata": {
        "colab": {
          "base_uri": "https://localhost:8080/"
        },
        "id": "5de16832",
        "outputId": "a70397ba-e563-4b2f-a7d1-63ebddd8df43"
      },
      "outputs": [
        {
          "output_type": "execute_result",
          "data": {
            "text/plain": [
              "(42000, 785)"
            ]
          },
          "metadata": {},
          "execution_count": 14
        }
      ],
      "source": [
        "df_train.shape"
      ]
    },
    {
      "cell_type": "code",
      "execution_count": 15,
      "id": "66a79096",
      "metadata": {
        "colab": {
          "base_uri": "https://localhost:8080/",
          "height": 299
        },
        "id": "66a79096",
        "outputId": "b09c624e-7a7f-4285-f5fe-ebef6b8d5ab6"
      },
      "outputs": [
        {
          "output_type": "execute_result",
          "data": {
            "text/plain": [
              "   label  pixel0  pixel1  pixel2  pixel3  pixel4  pixel5  pixel6  pixel7  \\\n",
              "0      1       0       0       0       0       0       0       0       0   \n",
              "1      0       0       0       0       0       0       0       0       0   \n",
              "2      1       0       0       0       0       0       0       0       0   \n",
              "3      4       0       0       0       0       0       0       0       0   \n",
              "4      0       0       0       0       0       0       0       0       0   \n",
              "\n",
              "   pixel8  ...  pixel774  pixel775  pixel776  pixel777  pixel778  pixel779  \\\n",
              "0       0  ...         0         0         0         0         0         0   \n",
              "1       0  ...         0         0         0         0         0         0   \n",
              "2       0  ...         0         0         0         0         0         0   \n",
              "3       0  ...         0         0         0         0         0         0   \n",
              "4       0  ...         0         0         0         0         0         0   \n",
              "\n",
              "   pixel780  pixel781  pixel782  pixel783  \n",
              "0         0         0         0         0  \n",
              "1         0         0         0         0  \n",
              "2         0         0         0         0  \n",
              "3         0         0         0         0  \n",
              "4         0         0         0         0  \n",
              "\n",
              "[5 rows x 785 columns]"
            ],
            "text/html": [
              "\n",
              "  <div id=\"df-b95447eb-ee68-4809-95e3-bf53c5c8b94c\">\n",
              "    <div class=\"colab-df-container\">\n",
              "      <div>\n",
              "<style scoped>\n",
              "    .dataframe tbody tr th:only-of-type {\n",
              "        vertical-align: middle;\n",
              "    }\n",
              "\n",
              "    .dataframe tbody tr th {\n",
              "        vertical-align: top;\n",
              "    }\n",
              "\n",
              "    .dataframe thead th {\n",
              "        text-align: right;\n",
              "    }\n",
              "</style>\n",
              "<table border=\"1\" class=\"dataframe\">\n",
              "  <thead>\n",
              "    <tr style=\"text-align: right;\">\n",
              "      <th></th>\n",
              "      <th>label</th>\n",
              "      <th>pixel0</th>\n",
              "      <th>pixel1</th>\n",
              "      <th>pixel2</th>\n",
              "      <th>pixel3</th>\n",
              "      <th>pixel4</th>\n",
              "      <th>pixel5</th>\n",
              "      <th>pixel6</th>\n",
              "      <th>pixel7</th>\n",
              "      <th>pixel8</th>\n",
              "      <th>...</th>\n",
              "      <th>pixel774</th>\n",
              "      <th>pixel775</th>\n",
              "      <th>pixel776</th>\n",
              "      <th>pixel777</th>\n",
              "      <th>pixel778</th>\n",
              "      <th>pixel779</th>\n",
              "      <th>pixel780</th>\n",
              "      <th>pixel781</th>\n",
              "      <th>pixel782</th>\n",
              "      <th>pixel783</th>\n",
              "    </tr>\n",
              "  </thead>\n",
              "  <tbody>\n",
              "    <tr>\n",
              "      <th>0</th>\n",
              "      <td>1</td>\n",
              "      <td>0</td>\n",
              "      <td>0</td>\n",
              "      <td>0</td>\n",
              "      <td>0</td>\n",
              "      <td>0</td>\n",
              "      <td>0</td>\n",
              "      <td>0</td>\n",
              "      <td>0</td>\n",
              "      <td>0</td>\n",
              "      <td>...</td>\n",
              "      <td>0</td>\n",
              "      <td>0</td>\n",
              "      <td>0</td>\n",
              "      <td>0</td>\n",
              "      <td>0</td>\n",
              "      <td>0</td>\n",
              "      <td>0</td>\n",
              "      <td>0</td>\n",
              "      <td>0</td>\n",
              "      <td>0</td>\n",
              "    </tr>\n",
              "    <tr>\n",
              "      <th>1</th>\n",
              "      <td>0</td>\n",
              "      <td>0</td>\n",
              "      <td>0</td>\n",
              "      <td>0</td>\n",
              "      <td>0</td>\n",
              "      <td>0</td>\n",
              "      <td>0</td>\n",
              "      <td>0</td>\n",
              "      <td>0</td>\n",
              "      <td>0</td>\n",
              "      <td>...</td>\n",
              "      <td>0</td>\n",
              "      <td>0</td>\n",
              "      <td>0</td>\n",
              "      <td>0</td>\n",
              "      <td>0</td>\n",
              "      <td>0</td>\n",
              "      <td>0</td>\n",
              "      <td>0</td>\n",
              "      <td>0</td>\n",
              "      <td>0</td>\n",
              "    </tr>\n",
              "    <tr>\n",
              "      <th>2</th>\n",
              "      <td>1</td>\n",
              "      <td>0</td>\n",
              "      <td>0</td>\n",
              "      <td>0</td>\n",
              "      <td>0</td>\n",
              "      <td>0</td>\n",
              "      <td>0</td>\n",
              "      <td>0</td>\n",
              "      <td>0</td>\n",
              "      <td>0</td>\n",
              "      <td>...</td>\n",
              "      <td>0</td>\n",
              "      <td>0</td>\n",
              "      <td>0</td>\n",
              "      <td>0</td>\n",
              "      <td>0</td>\n",
              "      <td>0</td>\n",
              "      <td>0</td>\n",
              "      <td>0</td>\n",
              "      <td>0</td>\n",
              "      <td>0</td>\n",
              "    </tr>\n",
              "    <tr>\n",
              "      <th>3</th>\n",
              "      <td>4</td>\n",
              "      <td>0</td>\n",
              "      <td>0</td>\n",
              "      <td>0</td>\n",
              "      <td>0</td>\n",
              "      <td>0</td>\n",
              "      <td>0</td>\n",
              "      <td>0</td>\n",
              "      <td>0</td>\n",
              "      <td>0</td>\n",
              "      <td>...</td>\n",
              "      <td>0</td>\n",
              "      <td>0</td>\n",
              "      <td>0</td>\n",
              "      <td>0</td>\n",
              "      <td>0</td>\n",
              "      <td>0</td>\n",
              "      <td>0</td>\n",
              "      <td>0</td>\n",
              "      <td>0</td>\n",
              "      <td>0</td>\n",
              "    </tr>\n",
              "    <tr>\n",
              "      <th>4</th>\n",
              "      <td>0</td>\n",
              "      <td>0</td>\n",
              "      <td>0</td>\n",
              "      <td>0</td>\n",
              "      <td>0</td>\n",
              "      <td>0</td>\n",
              "      <td>0</td>\n",
              "      <td>0</td>\n",
              "      <td>0</td>\n",
              "      <td>0</td>\n",
              "      <td>...</td>\n",
              "      <td>0</td>\n",
              "      <td>0</td>\n",
              "      <td>0</td>\n",
              "      <td>0</td>\n",
              "      <td>0</td>\n",
              "      <td>0</td>\n",
              "      <td>0</td>\n",
              "      <td>0</td>\n",
              "      <td>0</td>\n",
              "      <td>0</td>\n",
              "    </tr>\n",
              "  </tbody>\n",
              "</table>\n",
              "<p>5 rows × 785 columns</p>\n",
              "</div>\n",
              "      <button class=\"colab-df-convert\" onclick=\"convertToInteractive('df-b95447eb-ee68-4809-95e3-bf53c5c8b94c')\"\n",
              "              title=\"Convert this dataframe to an interactive table.\"\n",
              "              style=\"display:none;\">\n",
              "        \n",
              "  <svg xmlns=\"http://www.w3.org/2000/svg\" height=\"24px\"viewBox=\"0 0 24 24\"\n",
              "       width=\"24px\">\n",
              "    <path d=\"M0 0h24v24H0V0z\" fill=\"none\"/>\n",
              "    <path d=\"M18.56 5.44l.94 2.06.94-2.06 2.06-.94-2.06-.94-.94-2.06-.94 2.06-2.06.94zm-11 1L8.5 8.5l.94-2.06 2.06-.94-2.06-.94L8.5 2.5l-.94 2.06-2.06.94zm10 10l.94 2.06.94-2.06 2.06-.94-2.06-.94-.94-2.06-.94 2.06-2.06.94z\"/><path d=\"M17.41 7.96l-1.37-1.37c-.4-.4-.92-.59-1.43-.59-.52 0-1.04.2-1.43.59L10.3 9.45l-7.72 7.72c-.78.78-.78 2.05 0 2.83L4 21.41c.39.39.9.59 1.41.59.51 0 1.02-.2 1.41-.59l7.78-7.78 2.81-2.81c.8-.78.8-2.07 0-2.86zM5.41 20L4 18.59l7.72-7.72 1.47 1.35L5.41 20z\"/>\n",
              "  </svg>\n",
              "      </button>\n",
              "      \n",
              "  <style>\n",
              "    .colab-df-container {\n",
              "      display:flex;\n",
              "      flex-wrap:wrap;\n",
              "      gap: 12px;\n",
              "    }\n",
              "\n",
              "    .colab-df-convert {\n",
              "      background-color: #E8F0FE;\n",
              "      border: none;\n",
              "      border-radius: 50%;\n",
              "      cursor: pointer;\n",
              "      display: none;\n",
              "      fill: #1967D2;\n",
              "      height: 32px;\n",
              "      padding: 0 0 0 0;\n",
              "      width: 32px;\n",
              "    }\n",
              "\n",
              "    .colab-df-convert:hover {\n",
              "      background-color: #E2EBFA;\n",
              "      box-shadow: 0px 1px 2px rgba(60, 64, 67, 0.3), 0px 1px 3px 1px rgba(60, 64, 67, 0.15);\n",
              "      fill: #174EA6;\n",
              "    }\n",
              "\n",
              "    [theme=dark] .colab-df-convert {\n",
              "      background-color: #3B4455;\n",
              "      fill: #D2E3FC;\n",
              "    }\n",
              "\n",
              "    [theme=dark] .colab-df-convert:hover {\n",
              "      background-color: #434B5C;\n",
              "      box-shadow: 0px 1px 3px 1px rgba(0, 0, 0, 0.15);\n",
              "      filter: drop-shadow(0px 1px 2px rgba(0, 0, 0, 0.3));\n",
              "      fill: #FFFFFF;\n",
              "    }\n",
              "  </style>\n",
              "\n",
              "      <script>\n",
              "        const buttonEl =\n",
              "          document.querySelector('#df-b95447eb-ee68-4809-95e3-bf53c5c8b94c button.colab-df-convert');\n",
              "        buttonEl.style.display =\n",
              "          google.colab.kernel.accessAllowed ? 'block' : 'none';\n",
              "\n",
              "        async function convertToInteractive(key) {\n",
              "          const element = document.querySelector('#df-b95447eb-ee68-4809-95e3-bf53c5c8b94c');\n",
              "          const dataTable =\n",
              "            await google.colab.kernel.invokeFunction('convertToInteractive',\n",
              "                                                     [key], {});\n",
              "          if (!dataTable) return;\n",
              "\n",
              "          const docLinkHtml = 'Like what you see? Visit the ' +\n",
              "            '<a target=\"_blank\" href=https://colab.research.google.com/notebooks/data_table.ipynb>data table notebook</a>'\n",
              "            + ' to learn more about interactive tables.';\n",
              "          element.innerHTML = '';\n",
              "          dataTable['output_type'] = 'display_data';\n",
              "          await google.colab.output.renderOutput(dataTable, element);\n",
              "          const docLink = document.createElement('div');\n",
              "          docLink.innerHTML = docLinkHtml;\n",
              "          element.appendChild(docLink);\n",
              "        }\n",
              "      </script>\n",
              "    </div>\n",
              "  </div>\n",
              "  "
            ]
          },
          "metadata": {},
          "execution_count": 15
        }
      ],
      "source": [
        "df_train.head()"
      ]
    },
    {
      "cell_type": "code",
      "execution_count": 17,
      "id": "465ca806",
      "metadata": {
        "id": "465ca806"
      },
      "outputs": [],
      "source": [
        "y_train = df_train['label']\n",
        "X_train = df_train.drop('label', axis=1)"
      ]
    },
    {
      "cell_type": "code",
      "execution_count": 18,
      "id": "53994fa0",
      "metadata": {
        "colab": {
          "base_uri": "https://localhost:8080/"
        },
        "id": "53994fa0",
        "outputId": "ae150e4f-8fd1-4400-b2e3-a347c96db43b"
      },
      "outputs": [
        {
          "output_type": "execute_result",
          "data": {
            "text/plain": [
              "(42000, 784)"
            ]
          },
          "metadata": {},
          "execution_count": 18
        }
      ],
      "source": [
        "X_train.shape"
      ]
    },
    {
      "cell_type": "code",
      "execution_count": 83,
      "id": "ae9b01af",
      "metadata": {
        "colab": {
          "base_uri": "https://localhost:8080/",
          "height": 282
        },
        "id": "ae9b01af",
        "outputId": "418965e8-d56f-4363-eddb-134a16094c7c"
      },
      "outputs": [
        {
          "output_type": "execute_result",
          "data": {
            "text/plain": [
              "<matplotlib.image.AxesImage at 0x7fcbcf2ddc40>"
            ]
          },
          "metadata": {},
          "execution_count": 83
        },
        {
          "output_type": "display_data",
          "data": {
            "text/plain": [
              "<Figure size 432x288 with 1 Axes>"
            ],
            "image/png": "[encoded data removed]"
          },
          "metadata": {
            "needs_background": "light"
          }
        }
      ],
      "source": [
        "plt.imshow(X_train.iloc[10].values.reshape(28,28))"
      ]
    },
    {
      "cell_type": "code",
      "execution_count": 84,
      "id": "47369466",
      "metadata": {
        "colab": {
          "base_uri": "https://localhost:8080/"
        },
        "id": "47369466",
        "outputId": "5f3ad12a-5787-4a87-8fe8-909e1b5db1c5"
      },
      "outputs": [
        {
          "output_type": "execute_result",
          "data": {
            "text/plain": [
              "0        1\n",
              "1        0\n",
              "2        1\n",
              "3        4\n",
              "4        0\n",
              "        ..\n",
              "41995    0\n",
              "41996    1\n",
              "41997    7\n",
              "41998    6\n",
              "41999    9\n",
              "Name: label, Length: 42000, dtype: int64"
            ]
          },
          "metadata": {},
          "execution_count": 84
        }
      ],
      "source": [
        "y_train"
      ]
    },
    {
      "cell_type": "markdown",
      "id": "3107f709",
      "metadata": {
        "id": "3107f709"
      },
      "source": [
        "# Data Preparation"
      ]
    },
    {
      "cell_type": "code",
      "execution_count": 85,
      "id": "fd89b6a9",
      "metadata": {
        "id": "fd89b6a9"
      },
      "outputs": [],
      "source": [
        "X_train_scaled = X_train/255"
      ]
    },
    {
      "cell_type": "code",
      "execution_count": 86,
      "id": "c36943c7",
      "metadata": {
        "id": "c36943c7"
      },
      "outputs": [],
      "source": [
        "from tensorflow.keras.utils import to_categorical"
      ]
    },
    {
      "cell_type": "code",
      "execution_count": 87,
      "id": "72969d49",
      "metadata": {
        "id": "72969d49"
      },
      "outputs": [],
      "source": [
        "y_train_cat = to_categorical(y_train, num_classes=10)"
      ]
    },
    {
      "cell_type": "code",
      "execution_count": 88,
      "id": "da54a126",
      "metadata": {
        "colab": {
          "base_uri": "https://localhost:8080/"
        },
        "id": "da54a126",
        "outputId": "a08712d4-f48b-4aa3-93ca-4e1e027fbfa4"
      },
      "outputs": [
        {
          "output_type": "execute_result",
          "data": {
            "text/plain": [
              "(42000, 10)"
            ]
          },
          "metadata": {},
          "execution_count": 88
        }
      ],
      "source": [
        "y_train_cat.shape"
      ]
    },
    {
      "cell_type": "markdown",
      "id": "cb151b73",
      "metadata": {
        "id": "cb151b73"
      },
      "source": [
        "# Model Building"
      ]
    },
    {
      "cell_type": "code",
      "execution_count": 89,
      "id": "9be0a444",
      "metadata": {
        "id": "9be0a444"
      },
      "outputs": [],
      "source": [
        "from tensorflow.keras.models import Sequential\n",
        "from tensorflow.keras.layers import Dense"
      ]
    },
    {
      "cell_type": "code",
      "execution_count": 90,
      "id": "54c18205",
      "metadata": {
        "id": "54c18205"
      },
      "outputs": [],
      "source": [
        "model = Sequential() # Empty model\n",
        "model.add(Dense(50, activation='relu', input_shape=(784,)))\n",
        "model.add(Dense(40, activation='relu'))\n",
        "model.add(Dense(30, activation='relu'))\n",
        "model.add(Dense(10, activation='softmax'))\n",
        "\n",
        "model.compile(loss='categorical_crossentropy', metrics=['accuracy'])"
      ]
    },
    {
      "cell_type": "code",
      "execution_count": 91,
      "id": "b9fb59d7",
      "metadata": {
        "colab": {
          "base_uri": "https://localhost:8080/"
        },
        "id": "b9fb59d7",
        "outputId": "a6ebc102-adf2-4b6f-9fe9-1f85998cbade"
      },
      "outputs": [
        {
          "output_type": "stream",
          "name": "stdout",
          "text": [
            "Epoch 1/30\n",
            "657/657 [==============================] - 3s 3ms/step - loss: 0.3896 - accuracy: 0.8870\n",
            "Epoch 2/30\n",
            "657/657 [==============================] - 2s 3ms/step - loss: 0.1797 - accuracy: 0.9454\n",
            "Epoch 3/30\n",
            "657/657 [==============================] - 2s 3ms/step - loss: 0.1360 - accuracy: 0.9591\n",
            "Epoch 4/30\n",
            "657/657 [==============================] - 2s 3ms/step - loss: 0.1094 - accuracy: 0.9676\n",
            "Epoch 5/30\n",
            "657/657 [==============================] - 2s 3ms/step - loss: 0.0920 - accuracy: 0.9722\n",
            "Epoch 6/30\n",
            "657/657 [==============================] - 2s 3ms/step - loss: 0.0789 - accuracy: 0.9752\n",
            "Epoch 7/30\n",
            "657/657 [==============================] - 2s 3ms/step - loss: 0.0694 - accuracy: 0.9792\n",
            "Epoch 8/30\n",
            "657/657 [==============================] - 2s 3ms/step - loss: 0.0609 - accuracy: 0.9822\n",
            "Epoch 9/30\n",
            "657/657 [==============================] - 2s 3ms/step - loss: 0.0541 - accuracy: 0.9830\n",
            "Epoch 10/30\n",
            "657/657 [==============================] - 2s 3ms/step - loss: 0.0485 - accuracy: 0.9853\n",
            "Epoch 11/30\n",
            "657/657 [==============================] - 2s 3ms/step - loss: 0.0439 - accuracy: 0.9861\n",
            "Epoch 12/30\n",
            "657/657 [==============================] - 2s 3ms/step - loss: 0.0399 - accuracy: 0.9879\n",
            "Epoch 13/30\n",
            "657/657 [==============================] - 2s 3ms/step - loss: 0.0362 - accuracy: 0.9886\n",
            "Epoch 14/30\n",
            "657/657 [==============================] - 2s 3ms/step - loss: 0.0329 - accuracy: 0.9898\n",
            "Epoch 15/30\n",
            "657/657 [==============================] - 2s 3ms/step - loss: 0.0288 - accuracy: 0.9907\n",
            "Epoch 16/30\n",
            "657/657 [==============================] - 2s 3ms/step - loss: 0.0261 - accuracy: 0.9916\n",
            "Epoch 17/30\n",
            "657/657 [==============================] - 3s 4ms/step - loss: 0.0243 - accuracy: 0.9925\n",
            "Epoch 18/30\n",
            "657/657 [==============================] - 2s 3ms/step - loss: 0.0225 - accuracy: 0.9930\n",
            "Epoch 19/30\n",
            "657/657 [==============================] - 2s 3ms/step - loss: 0.0204 - accuracy: 0.9935\n",
            "Epoch 20/30\n",
            "657/657 [==============================] - 2s 3ms/step - loss: 0.0197 - accuracy: 0.9935\n",
            "Epoch 21/30\n",
            "657/657 [==============================] - 2s 3ms/step - loss: 0.0182 - accuracy: 0.9944\n",
            "Epoch 22/30\n",
            "657/657 [==============================] - 2s 3ms/step - loss: 0.0152 - accuracy: 0.9953\n",
            "Epoch 23/30\n",
            "657/657 [==============================] - 2s 3ms/step - loss: 0.0142 - accuracy: 0.9959\n",
            "Epoch 24/30\n",
            "657/657 [==============================] - 2s 3ms/step - loss: 0.0130 - accuracy: 0.9955\n",
            "Epoch 25/30\n",
            "657/657 [==============================] - 2s 3ms/step - loss: 0.0125 - accuracy: 0.9960\n",
            "Epoch 26/30\n",
            "657/657 [==============================] - 2s 3ms/step - loss: 0.0113 - accuracy: 0.9966\n",
            "Epoch 27/30\n",
            "657/657 [==============================] - 2s 3ms/step - loss: 0.0107 - accuracy: 0.9965\n",
            "Epoch 28/30\n",
            "657/657 [==============================] - 2s 3ms/step - loss: 0.0113 - accuracy: 0.9964\n",
            "Epoch 29/30\n",
            "657/657 [==============================] - 2s 3ms/step - loss: 0.0092 - accuracy: 0.9973\n",
            "Epoch 30/30\n",
            "657/657 [==============================] - 4s 5ms/step - loss: 0.0093 - accuracy: 0.9973\n"
          ]
        }
      ],
      "source": [
        "hist = model.fit(X_train_scaled,y_train_cat, epochs=30, batch_size=64)"
      ]
    },
    {
      "cell_type": "code",
      "execution_count": 92,
      "id": "c043cd38",
      "metadata": {
        "id": "c043cd38"
      },
      "outputs": [],
      "source": [
        "model.save('my_digit_rec_model.h5')"
      ]
    },
    {
      "cell_type": "code",
      "execution_count": 93,
      "id": "1002a2bc",
      "metadata": {
        "id": "1002a2bc"
      },
      "outputs": [],
      "source": [
        "from tensorflow.keras.models import load_model"
      ]
    },
    {
      "cell_type": "code",
      "source": [
        "mymodel = load_model('my_digit_rec_model.h5')"
      ],
      "metadata": {
        "id": "WFPkk5bvpxvk"
      },
      "id": "WFPkk5bvpxvk",
      "execution_count": 94,
      "outputs": []
    },
    {
      "cell_type": "code",
      "source": [
        "pip install opencv-contrib-python"
      ],
      "metadata": {
        "colab": {
          "base_uri": "https://localhost:8080/"
        },
        "id": "cmIUbpINqRz0",
        "outputId": "d8bc0c68-a0bb-40a0-aa30-efd55a65bfb9"
      },
      "id": "cmIUbpINqRz0",
      "execution_count": 67,
      "outputs": [
        {
          "output_type": "stream",
          "name": "stdout",
          "text": [
            "Looking in indexes: https://pypi.org/simple, https://us-python.pkg.dev/colab-wheels/public/simple/\n",
            "Requirement already satisfied: opencv-contrib-python in /usr/local/lib/python3.8/dist-packages (4.6.0.66)\n",
            "Requirement already satisfied: numpy>=1.17.3 in /usr/local/lib/python3.8/dist-packages (from opencv-contrib-python) (1.21.6)\n"
          ]
        }
      ]
    },
    {
      "cell_type": "code",
      "source": [
        "import cv2"
      ],
      "metadata": {
        "id": "vbQIi49GpzL8"
      },
      "id": "vbQIi49GpzL8",
      "execution_count": 95,
      "outputs": []
    },
    {
      "cell_type": "code",
      "source": [
        "img = cv2.imread('/content/sample_data/eight.png',0) #gray"
      ],
      "metadata": {
        "id": "1ofsWpJDp2z9"
      },
      "id": "1ofsWpJDp2z9",
      "execution_count": 97,
      "outputs": []
    },
    {
      "cell_type": "code",
      "source": [
        "type(img)"
      ],
      "metadata": {
        "colab": {
          "base_uri": "https://localhost:8080/"
        },
        "id": "ybDkTQn6p3Ss",
        "outputId": "e5437f6c-4185-4d85-c6a1-f5a48439d561"
      },
      "id": "ybDkTQn6p3Ss",
      "execution_count": 98,
      "outputs": [
        {
          "output_type": "execute_result",
          "data": {
            "text/plain": [
              "numpy.ndarray"
            ]
          },
          "metadata": {},
          "execution_count": 98
        }
      ]
    },
    {
      "cell_type": "code",
      "source": [
        "img.shape"
      ],
      "metadata": {
        "colab": {
          "base_uri": "https://localhost:8080/"
        },
        "id": "EQWbZxktp5Du",
        "outputId": "b41fdb52-7151-4ae3-d58f-190d67c71c6e"
      },
      "id": "EQWbZxktp5Du",
      "execution_count": 99,
      "outputs": [
        {
          "output_type": "execute_result",
          "data": {
            "text/plain": [
              "(248, 251)"
            ]
          },
          "metadata": {},
          "execution_count": 99
        }
      ]
    },
    {
      "cell_type": "code",
      "source": [
        "img = cv2.resize(img,(28,28))\n",
        "img.shape"
      ],
      "metadata": {
        "colab": {
          "base_uri": "https://localhost:8080/"
        },
        "id": "e6PQJjQ-p60U",
        "outputId": "f5137648-e0ab-4e8d-d4e4-ca4b4923aa7b"
      },
      "id": "e6PQJjQ-p60U",
      "execution_count": 100,
      "outputs": [
        {
          "output_type": "execute_result",
          "data": {
            "text/plain": [
              "(28, 28)"
            ]
          },
          "metadata": {},
          "execution_count": 100
        }
      ]
    },
    {
      "cell_type": "code",
      "source": [
        "import matplotlib.pyplot as plt"
      ],
      "metadata": {
        "id": "DCkTCKOPp8XU"
      },
      "id": "DCkTCKOPp8XU",
      "execution_count": 101,
      "outputs": []
    },
    {
      "cell_type": "code",
      "source": [
        "plt.imshow(img)"
      ],
      "metadata": {
        "colab": {
          "base_uri": "https://localhost:8080/",
          "height": 282
        },
        "id": "Zahvxadwp-B0",
        "outputId": "b3226008-e9a3-4bd3-9ea6-0e215062aa08"
      },
      "id": "Zahvxadwp-B0",
      "execution_count": 102,
      "outputs": [
        {
          "output_type": "execute_result",
          "data": {
            "text/plain": [
              "<matplotlib.image.AxesImage at 0x7fcbcf0b4fa0>"
            ]
          },
          "metadata": {},
          "execution_count": 102
        },
        {
          "output_type": "display_data",
          "data": {
            "text/plain": [
              "<Figure size 432x288 with 1 Axes>"
            ],
            "image/png": "[encoded data removed]"
          },
          "metadata": {
            "needs_background": "light"
          }
        }
      ]
    },
    {
      "cell_type": "code",
      "source": [
        "img = img/255"
      ],
      "metadata": {
        "id": "FOrMTay8p_rc"
      },
      "id": "FOrMTay8p_rc",
      "execution_count": 103,
      "outputs": []
    },
    {
      "cell_type": "code",
      "source": [
        "img = img.reshape(1,784)\n",
        "img.shape"
      ],
      "metadata": {
        "colab": {
          "base_uri": "https://localhost:8080/"
        },
        "id": "y2oKe7ZAqBdF",
        "outputId": "72306fd0-0288-44f1-fa20-bc277d72eaab"
      },
      "id": "y2oKe7ZAqBdF",
      "execution_count": 104,
      "outputs": [
        {
          "output_type": "execute_result",
          "data": {
            "text/plain": [
              "(1, 784)"
            ]
          },
          "metadata": {},
          "execution_count": 104
        }
      ]
    },
    {
      "cell_type": "code",
      "source": [
        "mymodel.predict_on_batch(img).argmax()"
      ],
      "metadata": {
        "colab": {
          "base_uri": "https://localhost:8080/"
        },
        "id": "3argxagfqC5N",
        "outputId": "b614a45a-731b-4fc5-923c-5974fdb3517a"
      },
      "id": "3argxagfqC5N",
      "execution_count": 105,
      "outputs": [
        {
          "output_type": "execute_result",
          "data": {
            "text/plain": [
              "7"
            ]
          },
          "metadata": {},
          "execution_count": 105
        }
      ]
    },
    {
      "cell_type": "code",
      "source": [
        "def get_predictions(path):\n",
        "    img = cv2.imread(path,0) #gray\n",
        "    img = cv2.resize(img,(28,28))\n",
        "    img = img/255\n",
        "    img = img.reshape(1,784)\n",
        "    return mymodel.predict_on_batch(img).argmax()"
      ],
      "metadata": {
        "id": "SoaKiqdFqEPc"
      },
      "id": "SoaKiqdFqEPc",
      "execution_count": 108,
      "outputs": []
    },
    {
      "cell_type": "code",
      "source": [
        "get_predictions('/content/sample_data/eight.png')"
      ],
      "metadata": {
        "colab": {
          "base_uri": "https://localhost:8080/"
        },
        "id": "te7pH2rfqFyE",
        "outputId": "958d18f7-800d-498e-e7f6-6b1e043fcda4"
      },
      "id": "te7pH2rfqFyE",
      "execution_count": 109,
      "outputs": [
        {
          "output_type": "execute_result",
          "data": {
            "text/plain": [
              "7"
            ]
          },
          "metadata": {},
          "execution_count": 109
        }
      ]
    }
  ],
  "metadata": {
    "kernelspec": {
      "display_name": "Python [conda env:tf_env_17]",
      "language": "python",
      "name": "conda-env-tf_env_17-py"
    },
    "language_info": {
      "codemirror_mode": {
        "name": "ipython",
        "version": 3
      },
      "file_extension": ".py",
      "mimetype": "text/x-python",
      "name": "python",
      "nbconvert_exporter": "python",
      "pygments_lexer": "ipython3",
      "version": "3.9.13"
    },
    "colab": {
      "provenance": []
    }
  },
  "nbformat": 4,
  "nbformat_minor": 5
}